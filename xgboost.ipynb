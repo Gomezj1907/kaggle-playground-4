{
 "cells": [
  {
   "cell_type": "code",
   "execution_count": null,
   "metadata": {},
   "outputs": [],
   "source": [
    "import pandas as pd\n",
    "import numpy as np \n",
    "import matplotlib.pyplot as plt \n",
    "import seaborn as sns \n",
    "from sklearn.metrics import auc, accuracy_score, confusion_matrix, mean_squared_error\n",
    "from sklearn.model_selection import cross_val_score, GridSearchCV, KFold\n",
    "import xgboost as xgb"
   ]
  },
  {
   "cell_type": "code",
   "execution_count": null,
   "metadata": {},
   "outputs": [],
   "source": [
    "train = pd.read_csv(\"02_prepare_data/output/train.csv\")\n",
    "test =  pd.read_csv(\"02_prepare_data/output/test.csv\")\n",
    "\n",
    "train_x = train.drop(['Exited','id' ], axis = 1)\n",
    "train_y = train['Exited']\n",
    "\n",
    "test_x = test\n"
   ]
  },
  {
   "cell_type": "code",
   "execution_count": null,
   "metadata": {},
   "outputs": [],
   "source": []
  },
  {
   "cell_type": "markdown",
   "metadata": {},
   "source": [
    "## Xgboost 3"
   ]
  },
  {
   "cell_type": "code",
   "execution_count": null,
   "metadata": {},
   "outputs": [],
   "source": [
    "param_grid = {\n",
    "    'eta': [0.01, 0.001, 0.0015], #\n",
    "    'max_depth': [7],\n",
    "    'learning_rate': [0.1,0.15,0.3], #\n",
    "    'subsample': [1], \n",
    "    'colsample_bytree': [0.5],\n",
    "    'n_estimators' : [200, 300, 400, 500]#\n",
    "    }"
   ]
  },
  {
   "cell_type": "code",
   "execution_count": null,
   "metadata": {},
   "outputs": [],
   "source": [
    "boost_grid = GridSearchCV(estimator = xgb_model, param_grid = param_grid, cv = 5,scoring = 'roc_auc', \n",
    "                         verbose = 0, return_train_score = True)\n",
    "\n",
    "boost_grid.fit(train_x, train_y)"
   ]
  },
  {
   "cell_type": "code",
   "execution_count": null,
   "metadata": {},
   "outputs": [],
   "source": [
    "results = pd.DataFrame(boost_grid.cv_results_)\n",
    "results.sort_values(by='rank_test_score', inplace=True)\n",
    "results.iloc[:3]"
   ]
  },
  {
   "cell_type": "code",
   "execution_count": null,
   "metadata": {},
   "outputs": [],
   "source": [
    "id = test_x['id']\n",
    "test_x = test_x.drop(['id'], axis=1)\n",
    "\n",
    "prediction = boost_grid.predict(test_x)\n",
    "prediction_proba = boost_grid.predict_proba(test_x)\n",
    "submission = pd.DataFrame({'id':id,'Exited':prediction_proba[:,1]})"
   ]
  },
  {
   "cell_type": "code",
   "execution_count": null,
   "metadata": {},
   "outputs": [],
   "source": [
    "submission.to_csv(\"C:/Users/jorge_j24fcle/OneDrive/Documentos/3. coding/Python/kaggle_playground4/04_submissions/output/boosted_2.csv\", index=False)"
   ]
  },
  {
   "cell_type": "markdown",
   "metadata": {},
   "source": [
    "## Xgboost 2"
   ]
  },
  {
   "cell_type": "code",
   "execution_count": null,
   "metadata": {},
   "outputs": [],
   "source": [
    "param_grid = {\n",
    "    'eta': [0.01, 0.001, 0.0015], #\n",
    "    'max_depth': [5],\n",
    "    'learning_rate': [0.1,0.15,0.3], #\n",
    "    'subsample': [1], \n",
    "    'colsample_bytree': [0.5],\n",
    "    'n_estimators' : [200, 300, 400, 500]#\n",
    "    }\n",
    "\n",
    "xgb_model = xgb.XGBClassifier()"
   ]
  },
  {
   "cell_type": "code",
   "execution_count": null,
   "metadata": {},
   "outputs": [],
   "source": [
    "boost_grid = GridSearchCV(estimator = xgb_model, param_grid = param_grid, cv = 5,scoring = 'roc_auc', \n",
    "                         verbose = 0, return_train_score = True)\n",
    "\n",
    "boost_grid.fit(train_x, train_y)\n"
   ]
  },
  {
   "cell_type": "code",
   "execution_count": null,
   "metadata": {},
   "outputs": [],
   "source": [
    "results = pd.DataFrame(boost_grid.cv_results_)\n",
    "results.sort_values(by='rank_test_score', inplace=True)\n",
    "results.iloc[:3]"
   ]
  },
  {
   "cell_type": "code",
   "execution_count": null,
   "metadata": {},
   "outputs": [],
   "source": [
    "print(boost_grid.best_params_)\n"
   ]
  },
  {
   "cell_type": "code",
   "execution_count": null,
   "metadata": {},
   "outputs": [],
   "source": [
    "id = test_x['id']\n",
    "test_x = test_x.drop(['id'], axis=1)\n",
    "\n",
    "prediction = boost_grid.predict(test_x)\n",
    "prediction_proba = boost_grid.predict_proba(test_x)\n",
    "submission = pd.DataFrame({'id':id,'Exited':prediction_proba[:,1]})"
   ]
  },
  {
   "cell_type": "code",
   "execution_count": null,
   "metadata": {},
   "outputs": [],
   "source": [
    "submission"
   ]
  },
  {
   "cell_type": "code",
   "execution_count": null,
   "metadata": {},
   "outputs": [],
   "source": [
    "submission.to_csv(\"C:/Users/jorge_j24fcle/OneDrive/Documentos/3. coding/Python/kaggle_playground4/04_submissions/output/boosted_2.csv\", index=False)"
   ]
  },
  {
   "cell_type": "markdown",
   "metadata": {},
   "source": [
    "## Xgboost 1"
   ]
  },
  {
   "cell_type": "code",
   "execution_count": null,
   "metadata": {},
   "outputs": [],
   "source": [
    "param_grid = {\n",
    "    'eta': [0.01], #\n",
    "    'max_depth': [5],\n",
    "    'learning_rate': [0.1], #\n",
    "    'subsample': [1], \n",
    "    'colsample_bytree': [0.5],\n",
    "    'n_estimators' : [200]#\n",
    "    }\n",
    "\n",
    "xgb_model = xgb.XGBClassifier()"
   ]
  },
  {
   "cell_type": "code",
   "execution_count": null,
   "metadata": {},
   "outputs": [],
   "source": [
    "boost_grid = GridSearchCV(estimator = xgb_model, param_grid = param_grid, cv = 5,scoring = 'roc_auc', \n",
    "                         verbose = 0, return_train_score = True)\n",
    "\n",
    "boost_grid.fit(train_x, train_y)\n"
   ]
  },
  {
   "cell_type": "code",
   "execution_count": null,
   "metadata": {},
   "outputs": [],
   "source": [
    "results = pd.DataFrame(boost_grid.cv_results_)\n",
    "results.sort_values(by='rank_test_score', inplace=True)"
   ]
  },
  {
   "cell_type": "code",
   "execution_count": null,
   "metadata": {},
   "outputs": [],
   "source": [
    "results.iloc[:3]"
   ]
  },
  {
   "cell_type": "code",
   "execution_count": null,
   "metadata": {},
   "outputs": [],
   "source": [
    "print(boost_grid.best_params_)\n"
   ]
  },
  {
   "cell_type": "code",
   "execution_count": null,
   "metadata": {},
   "outputs": [],
   "source": [
    "id = test_x['id']\n",
    "test_x = test_x.drop(['id'], axis=1)\n",
    "\n",
    "prediction = boost_grid.predict(test_x)\n",
    "prediction_proba = boost_grid.predict_proba(test_x)\n",
    "submission = pd.DataFrame({'id':id,'Exited':prediction_proba[:,1]})"
   ]
  },
  {
   "cell_type": "code",
   "execution_count": null,
   "metadata": {},
   "outputs": [],
   "source": [
    "submission"
   ]
  },
  {
   "cell_type": "code",
   "execution_count": null,
   "metadata": {},
   "outputs": [],
   "source": [
    "submission.to_csv(\"04_submissions/output/boosted_1.csv\", index=False)"
   ]
  }
 ],
 "metadata": {
  "kernelspec": {
   "display_name": "kaggle_env",
   "language": "python",
   "name": "python3"
  },
  "language_info": {
   "codemirror_mode": {
    "name": "ipython",
    "version": 3
   },
   "file_extension": ".py",
   "mimetype": "text/x-python",
   "name": "python",
   "nbconvert_exporter": "python",
   "pygments_lexer": "ipython3",
   "version": "3.11.5"
  }
 },
 "nbformat": 4,
 "nbformat_minor": 2
}
